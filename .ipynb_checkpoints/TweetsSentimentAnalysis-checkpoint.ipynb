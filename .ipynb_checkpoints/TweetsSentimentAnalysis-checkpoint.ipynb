{
 "cells": [
  {
   "cell_type": "code",
   "execution_count": 25,
   "id": "e76c8fda",
   "metadata": {
    "ExecuteTime": {
     "end_time": "2022-01-22T08:54:52.630682Z",
     "start_time": "2022-01-22T08:54:52.624094Z"
    }
   },
   "outputs": [
    {
     "name": "stderr",
     "output_type": "stream",
     "text": [
      "[nltk_data] Downloading package stopwords to\n",
      "[nltk_data]     /Users/evgeniy/nltk_data...\n",
      "[nltk_data]   Package stopwords is already up-to-date!\n"
     ]
    },
    {
     "data": {
      "text/plain": [
       "True"
      ]
     },
     "execution_count": 25,
     "metadata": {},
     "output_type": "execute_result"
    }
   ],
   "source": [
    "import pandas as pd\n",
    "import nltk \n",
    "from nltk.corpus import stopwords\n",
    "import re\n",
    "from sklearn.feature_extraction.text import TfidfVectorizer\n",
    "from sklearn.model_selection import train_test_split\n",
    "from sklearn.naive_bayes import BernoulliNB, GaussianNB, MultinomialNB\n",
    "from sklearn.metrics import roc_auc_score, roc_curve, confusion_matrix\n",
    "from tensorflow.keras.models import Sequential\n",
    "from tensorflow.keras.layers import Dense, Embedding, Dropout, Flatten\n",
    "from tensorflow.keras.preprocessing.sequence import pad_sequences\n",
    "from tensorflow.keras.preprocessing import text\n",
    "from matplotlib import pyplot as plt\n",
    "import seaborn as sns\n",
    "import transformers, torch\n",
    "from tqdm import notebook\n",
    "\n",
    "\n",
    "nltk.download('stopwords')"
   ]
  },
  {
   "cell_type": "markdown",
   "id": "ee97d7dd",
   "metadata": {},
   "source": [
    "dataset source https://www.kaggle.com/arkhoshghalb/twitter-sentiment-analysis-hatred-speech"
   ]
  },
  {
   "cell_type": "markdown",
   "id": "7f87cfb1",
   "metadata": {},
   "source": [
    "# Feature extraction"
   ]
  },
  {
   "cell_type": "code",
   "execution_count": 2,
   "id": "c2f9ad0a",
   "metadata": {
    "ExecuteTime": {
     "end_time": "2022-01-22T08:43:40.310978Z",
     "start_time": "2022-01-22T08:43:40.230574Z"
    }
   },
   "outputs": [],
   "source": [
    "train_tweets = pd.read_csv('/Users/evgeniy/Downloads/archive-3/train.csv', usecols=['label', 'tweet'])\n",
    "test_tweets = pd.read_csv('/Users/evgeniy/Downloads/archive-3/test.csv')"
   ]
  },
  {
   "cell_type": "code",
   "execution_count": 3,
   "id": "9929791c",
   "metadata": {
    "ExecuteTime": {
     "end_time": "2022-01-22T08:43:42.342861Z",
     "start_time": "2022-01-22T08:43:42.323823Z"
    }
   },
   "outputs": [
    {
     "name": "stdout",
     "output_type": "stream",
     "text": [
      "<class 'pandas.core.frame.DataFrame'>\n",
      "RangeIndex: 31962 entries, 0 to 31961\n",
      "Data columns (total 2 columns):\n",
      " #   Column  Non-Null Count  Dtype \n",
      "---  ------  --------------  ----- \n",
      " 0   label   31962 non-null  int64 \n",
      " 1   tweet   31962 non-null  object\n",
      "dtypes: int64(1), object(1)\n",
      "memory usage: 499.5+ KB\n"
     ]
    }
   ],
   "source": [
    "train_tweets.info()"
   ]
  },
  {
   "cell_type": "code",
   "execution_count": 4,
   "id": "d6ded995",
   "metadata": {
    "ExecuteTime": {
     "end_time": "2022-01-22T08:43:44.018904Z",
     "start_time": "2022-01-22T08:43:44.010296Z"
    }
   },
   "outputs": [
    {
     "name": "stdout",
     "output_type": "stream",
     "text": [
      "<class 'pandas.core.frame.DataFrame'>\n",
      "RangeIndex: 17197 entries, 0 to 17196\n",
      "Data columns (total 2 columns):\n",
      " #   Column  Non-Null Count  Dtype \n",
      "---  ------  --------------  ----- \n",
      " 0   id      17197 non-null  int64 \n",
      " 1   tweet   17197 non-null  object\n",
      "dtypes: int64(1), object(1)\n",
      "memory usage: 268.8+ KB\n"
     ]
    }
   ],
   "source": [
    "test_tweets.info()"
   ]
  },
  {
   "cell_type": "code",
   "execution_count": 5,
   "id": "55462521",
   "metadata": {
    "ExecuteTime": {
     "end_time": "2022-01-22T08:43:46.470307Z",
     "start_time": "2022-01-22T08:43:46.466449Z"
    }
   },
   "outputs": [],
   "source": [
    "stop_words = set(stopwords.words('english'))"
   ]
  },
  {
   "cell_type": "code",
   "execution_count": 6,
   "id": "0f6ff422",
   "metadata": {
    "ExecuteTime": {
     "end_time": "2022-01-22T08:43:47.408683Z",
     "start_time": "2022-01-22T08:43:47.402303Z"
    }
   },
   "outputs": [
    {
     "data": {
      "text/html": [
       "<div>\n",
       "<style scoped>\n",
       "    .dataframe tbody tr th:only-of-type {\n",
       "        vertical-align: middle;\n",
       "    }\n",
       "\n",
       "    .dataframe tbody tr th {\n",
       "        vertical-align: top;\n",
       "    }\n",
       "\n",
       "    .dataframe thead th {\n",
       "        text-align: right;\n",
       "    }\n",
       "</style>\n",
       "<table border=\"1\" class=\"dataframe\">\n",
       "  <thead>\n",
       "    <tr style=\"text-align: right;\">\n",
       "      <th></th>\n",
       "      <th>label</th>\n",
       "      <th>tweet</th>\n",
       "    </tr>\n",
       "  </thead>\n",
       "  <tbody>\n",
       "    <tr>\n",
       "      <th>0</th>\n",
       "      <td>0</td>\n",
       "      <td>@user when a father is dysfunctional and is s...</td>\n",
       "    </tr>\n",
       "    <tr>\n",
       "      <th>1</th>\n",
       "      <td>0</td>\n",
       "      <td>@user @user thanks for #lyft credit i can't us...</td>\n",
       "    </tr>\n",
       "    <tr>\n",
       "      <th>2</th>\n",
       "      <td>0</td>\n",
       "      <td>bihday your majesty</td>\n",
       "    </tr>\n",
       "    <tr>\n",
       "      <th>3</th>\n",
       "      <td>0</td>\n",
       "      <td>#model   i love u take with u all the time in ...</td>\n",
       "    </tr>\n",
       "    <tr>\n",
       "      <th>4</th>\n",
       "      <td>0</td>\n",
       "      <td>factsguide: society now    #motivation</td>\n",
       "    </tr>\n",
       "  </tbody>\n",
       "</table>\n",
       "</div>"
      ],
      "text/plain": [
       "   label                                              tweet\n",
       "0      0   @user when a father is dysfunctional and is s...\n",
       "1      0  @user @user thanks for #lyft credit i can't us...\n",
       "2      0                                bihday your majesty\n",
       "3      0  #model   i love u take with u all the time in ...\n",
       "4      0             factsguide: society now    #motivation"
      ]
     },
     "execution_count": 6,
     "metadata": {},
     "output_type": "execute_result"
    }
   ],
   "source": [
    "train_tweets.head()"
   ]
  },
  {
   "cell_type": "code",
   "execution_count": 7,
   "id": "8490d799",
   "metadata": {
    "ExecuteTime": {
     "end_time": "2022-01-22T08:43:48.150507Z",
     "start_time": "2022-01-22T08:43:47.958421Z"
    }
   },
   "outputs": [],
   "source": [
    "train_tweets['cleared_tweets'] = train_tweets['tweet'].apply(lambda x: re.sub(r'[^a-zA-Z]', ' ', x))"
   ]
  },
  {
   "cell_type": "code",
   "execution_count": 8,
   "id": "951e2d62",
   "metadata": {
    "ExecuteTime": {
     "end_time": "2022-01-22T08:43:48.595236Z",
     "start_time": "2022-01-22T08:43:48.543438Z"
    }
   },
   "outputs": [],
   "source": [
    "train_tweets['cleared_tweets'] = train_tweets['cleared_tweets'].apply(lambda x: ' '.join(x.split()))"
   ]
  },
  {
   "cell_type": "markdown",
   "id": "ac941f30",
   "metadata": {},
   "source": [
    "# Classes balance"
   ]
  },
  {
   "cell_type": "code",
   "execution_count": 9,
   "id": "1af75190",
   "metadata": {
    "ExecuteTime": {
     "end_time": "2022-01-22T08:43:53.599186Z",
     "start_time": "2022-01-22T08:43:53.479458Z"
    }
   },
   "outputs": [
    {
     "data": {
      "image/png": "[encoded data removed]",
      "text/plain": [
       "<Figure size 432x288 with 1 Axes>"
      ]
     },
     "metadata": {
      "needs_background": "light"
     },
     "output_type": "display_data"
    }
   ],
   "source": [
    "train_tweets['label'].value_counts().plot(kind='bar');"
   ]
  },
  {
   "cell_type": "code",
   "execution_count": 10,
   "id": "d1212070",
   "metadata": {
    "ExecuteTime": {
     "end_time": "2022-01-22T08:43:53.782036Z",
     "start_time": "2022-01-22T08:43:53.778975Z"
    }
   },
   "outputs": [
    {
     "name": "stdout",
     "output_type": "stream",
     "text": [
      "Minority class rate: 7.01%\n"
     ]
    }
   ],
   "source": [
    "print('Minority class rate: {:.2%}'.format(\n",
    "    train_tweets['label'].sum() / train_tweets.shape[0])\n",
    "     )"
   ]
  },
  {
   "cell_type": "markdown",
   "id": "448395b1",
   "metadata": {},
   "source": [
    "# Vectorizing"
   ]
  },
  {
   "cell_type": "code",
   "execution_count": 11,
   "id": "ff1ee301",
   "metadata": {
    "ExecuteTime": {
     "end_time": "2022-01-22T08:43:55.566206Z",
     "start_time": "2022-01-22T08:43:54.799677Z"
    }
   },
   "outputs": [],
   "source": [
    "tfidf_vect = TfidfVectorizer(stop_words=stop_words, max_features=10000, ngram_range=(3, 3))\n",
    "sparsed = tfidf_vect.fit_transform(train_tweets['cleared_tweets'])\n",
    "\n",
    "tfidf = sparsed.toarray()"
   ]
  },
  {
   "cell_type": "code",
   "execution_count": 12,
   "id": "b11f547a",
   "metadata": {
    "ExecuteTime": {
     "end_time": "2022-01-22T08:43:55.600712Z",
     "start_time": "2022-01-22T08:43:55.593444Z"
    }
   },
   "outputs": [],
   "source": [
    "X_train, X_test, y_train, y_test = train_test_split(sparsed, \n",
    "                                                    train_tweets['label'], \n",
    "                                                    test_size=.25,\n",
    "                                                    random_state=42)"
   ]
  },
  {
   "cell_type": "markdown",
   "id": "122a2b5c",
   "metadata": {},
   "source": [
    "# Models"
   ]
  },
  {
   "cell_type": "markdown",
   "id": "a29d2242",
   "metadata": {
    "ExecuteTime": {
     "end_time": "2022-01-19T17:43:43.839376Z",
     "start_time": "2022-01-19T17:43:43.837355Z"
    }
   },
   "source": [
    "## Bayes "
   ]
  },
  {
   "cell_type": "code",
   "execution_count": 97,
   "id": "b4974d9a",
   "metadata": {
    "ExecuteTime": {
     "end_time": "2022-01-19T17:41:29.218520Z",
     "start_time": "2022-01-19T17:41:29.213957Z"
    }
   },
   "outputs": [],
   "source": [
    "def test_model(model, X_train=X_train, X_test=X_test,\n",
    "              y_train=y_train, y_test=y_test):\n",
    "    model.fit(X_train, y_train)\n",
    "    preds_proba = model.predict_proba(X_test)\n",
    "    preds = model.predict(X_test)\n",
    "    print('ROC AUC: ', roc_auc_score(y_test, preds_proba[: , 1]))\n",
    "    print('Confusion matrix:')\n",
    "    display(pd.DataFrame(confusion_matrix(y_test, preds)))\n",
    "    fpr, tpr, _ = roc_curve(y_test, preds_proba[: , 1])\n",
    "    plt.plot(fpr, tpr, label='model curve')\n",
    "    plt.plot([0, 1], [0, 1], '-', label='random')\n",
    "    plt.legend();"
   ]
  },
  {
   "cell_type": "code",
   "execution_count": 98,
   "id": "15499887",
   "metadata": {
    "ExecuteTime": {
     "end_time": "2022-01-19T17:41:29.703981Z",
     "start_time": "2022-01-19T17:41:29.572631Z"
    }
   },
   "outputs": [
    {
     "name": "stdout",
     "output_type": "stream",
     "text": [
      "ROC AUC:  0.671023481112474\n",
      "Confusion matrix:\n"
     ]
    },
    {
     "data": {
      "text/html": [
       "<div>\n",
       "<style scoped>\n",
       "    .dataframe tbody tr th:only-of-type {\n",
       "        vertical-align: middle;\n",
       "    }\n",
       "\n",
       "    .dataframe tbody tr th {\n",
       "        vertical-align: top;\n",
       "    }\n",
       "\n",
       "    .dataframe thead th {\n",
       "        text-align: right;\n",
       "    }\n",
       "</style>\n",
       "<table border=\"1\" class=\"dataframe\">\n",
       "  <thead>\n",
       "    <tr style=\"text-align: right;\">\n",
       "      <th></th>\n",
       "      <th>0</th>\n",
       "      <th>1</th>\n",
       "    </tr>\n",
       "  </thead>\n",
       "  <tbody>\n",
       "    <tr>\n",
       "      <th>0</th>\n",
       "      <td>7082</td>\n",
       "      <td>350</td>\n",
       "    </tr>\n",
       "    <tr>\n",
       "      <th>1</th>\n",
       "      <td>382</td>\n",
       "      <td>177</td>\n",
       "    </tr>\n",
       "  </tbody>\n",
       "</table>\n",
       "</div>"
      ],
      "text/plain": [
       "      0    1\n",
       "0  7082  350\n",
       "1   382  177"
      ]
     },
     "metadata": {},
     "output_type": "display_data"
    },
    {
     "data": {
      "image/png": "[encoded data removed]",
      "text/plain": [
       "<Figure size 432x288 with 1 Axes>"
      ]
     },
     "metadata": {
      "needs_background": "light"
     },
     "output_type": "display_data"
    }
   ],
   "source": [
    "test_model(model)"
   ]
  },
  {
   "cell_type": "code",
   "execution_count": 102,
   "id": "74182263",
   "metadata": {
    "ExecuteTime": {
     "end_time": "2022-01-19T17:42:41.846799Z",
     "start_time": "2022-01-19T17:42:41.711962Z"
    }
   },
   "outputs": [
    {
     "name": "stdout",
     "output_type": "stream",
     "text": [
      "ROC AUC:  0.7154532640363866\n",
      "Confusion matrix:\n"
     ]
    },
    {
     "data": {
      "text/html": [
       "<div>\n",
       "<style scoped>\n",
       "    .dataframe tbody tr th:only-of-type {\n",
       "        vertical-align: middle;\n",
       "    }\n",
       "\n",
       "    .dataframe tbody tr th {\n",
       "        vertical-align: top;\n",
       "    }\n",
       "\n",
       "    .dataframe thead th {\n",
       "        text-align: right;\n",
       "    }\n",
       "</style>\n",
       "<table border=\"1\" class=\"dataframe\">\n",
       "  <thead>\n",
       "    <tr style=\"text-align: right;\">\n",
       "      <th></th>\n",
       "      <th>0</th>\n",
       "      <th>1</th>\n",
       "    </tr>\n",
       "  </thead>\n",
       "  <tbody>\n",
       "    <tr>\n",
       "      <th>0</th>\n",
       "      <td>7432</td>\n",
       "      <td>0</td>\n",
       "    </tr>\n",
       "    <tr>\n",
       "      <th>1</th>\n",
       "      <td>458</td>\n",
       "      <td>101</td>\n",
       "    </tr>\n",
       "  </tbody>\n",
       "</table>\n",
       "</div>"
      ],
      "text/plain": [
       "      0    1\n",
       "0  7432    0\n",
       "1   458  101"
      ]
     },
     "metadata": {},
     "output_type": "display_data"
    },
    {
     "data": {
      "image/png": "[encoded data removed]",
      "text/plain": [
       "<Figure size 432x288 with 1 Axes>"
      ]
     },
     "metadata": {
      "needs_background": "light"
     },
     "output_type": "display_data"
    }
   ],
   "source": [
    "model = MultinomialNB()\n",
    "test_model(model)"
   ]
  },
  {
   "cell_type": "markdown",
   "id": "cc087896",
   "metadata": {},
   "source": [
    "## Dense net "
   ]
  },
  {
   "cell_type": "code",
   "execution_count": 112,
   "id": "6af05c5d",
   "metadata": {
    "ExecuteTime": {
     "end_time": "2022-01-19T17:52:09.317728Z",
     "start_time": "2022-01-19T17:52:08.911560Z"
    }
   },
   "outputs": [],
   "source": [
    "model = Sequential()\n",
    "model.add(Dense(1024, input_dim=10000, activation='relu'))\n",
    "model.add(Dense(1024, activation='relu'))\n",
    "model.add(Dense(1, activation='sigmoid'))\n",
    "model.compile(loss='binary_crossentropy', optimizer='adam', metrics=['AUC'])"
   ]
  },
  {
   "cell_type": "code",
   "execution_count": 114,
   "id": "38495770",
   "metadata": {
    "ExecuteTime": {
     "end_time": "2022-01-19T17:57:33.854217Z",
     "start_time": "2022-01-19T17:53:09.280345Z"
    }
   },
   "outputs": [
    {
     "name": "stdout",
     "output_type": "stream",
     "text": [
      "Epoch 1/5\n",
      "750/750 - 52s - loss: 0.2128 - auc: 0.6980 - val_loss: 0.1817 - val_auc: 0.7620\n",
      "Epoch 2/5\n",
      "750/750 - 53s - loss: 0.1596 - auc: 0.8000 - val_loss: 0.1883 - val_auc: 0.7610\n",
      "Epoch 3/5\n",
      "750/750 - 53s - loss: 0.1545 - auc: 0.8114 - val_loss: 0.1861 - val_auc: 0.7592\n",
      "Epoch 4/5\n",
      "750/750 - 53s - loss: 0.1527 - auc: 0.8187 - val_loss: 0.1863 - val_auc: 0.7549\n",
      "Epoch 5/5\n",
      "750/750 - 53s - loss: 0.1514 - auc: 0.8160 - val_loss: 0.1934 - val_auc: 0.7566\n"
     ]
    },
    {
     "data": {
      "text/plain": [
       "<keras.callbacks.History at 0x7ff4aab55460>"
      ]
     },
     "execution_count": 114,
     "metadata": {},
     "output_type": "execute_result"
    }
   ],
   "source": [
    "model.fit(X_train.toarray(), y_train, validation_data=(X_test.toarray(), y_test),\n",
    "         epochs=5, verbose=2)"
   ]
  },
  {
   "cell_type": "code",
   "execution_count": 122,
   "id": "1f8ba28e",
   "metadata": {
    "ExecuteTime": {
     "end_time": "2022-01-19T18:00:11.817700Z",
     "start_time": "2022-01-19T18:00:11.694325Z"
    }
   },
   "outputs": [
    {
     "data": {
      "image/png": "[encoded data removed]",
      "text/plain": [
       "<Figure size 432x288 with 1 Axes>"
      ]
     },
     "metadata": {
      "needs_background": "light"
     },
     "output_type": "display_data"
    }
   ],
   "source": [
    "plt.plot(range(0, 5), model.history.history['auc'], label='train_auc')\n",
    "plt.plot(range(0, 5), model.history.history['val_auc'], label='val_auc')\n",
    "plt.legend();"
   ]
  },
  {
   "cell_type": "code",
   "execution_count": 124,
   "id": "92cc802f",
   "metadata": {
    "ExecuteTime": {
     "end_time": "2022-01-19T18:00:48.860992Z",
     "start_time": "2022-01-19T18:00:48.775229Z"
    }
   },
   "outputs": [],
   "source": [
    "model = Sequential()\n",
    "model.add(Dense(1024, input_dim=10000, activation='relu'))\n",
    "model.add(Dropout(.5))\n",
    "model.add(Dense(1024, activation='relu'))\n",
    "model.add(Dense(1, activation='sigmoid'))\n",
    "model.compile(loss='binary_crossentropy', optimizer='adam', metrics=['AUC'])"
   ]
  },
  {
   "cell_type": "code",
   "execution_count": 125,
   "id": "19fc2a95",
   "metadata": {
    "ExecuteTime": {
     "end_time": "2022-01-19T18:00:59.569362Z",
     "start_time": "2022-01-19T18:00:59.563144Z"
    }
   },
   "outputs": [],
   "source": [
    "model.compile(loss='binary_crossentropy', optimizer='adam', metrics=['AUC'])"
   ]
  },
  {
   "cell_type": "code",
   "execution_count": 126,
   "id": "d9c7c556",
   "metadata": {
    "ExecuteTime": {
     "end_time": "2022-01-19T18:05:33.407335Z",
     "start_time": "2022-01-19T18:01:06.216107Z"
    }
   },
   "outputs": [
    {
     "name": "stdout",
     "output_type": "stream",
     "text": [
      "Epoch 1/5\n",
      "750/750 - 54s - loss: 0.2183 - auc: 0.6824 - val_loss: 0.1818 - val_auc: 0.7655\n",
      "Epoch 2/5\n",
      "750/750 - 53s - loss: 0.1641 - auc: 0.7979 - val_loss: 0.1793 - val_auc: 0.7638\n",
      "Epoch 3/5\n",
      "750/750 - 53s - loss: 0.1567 - auc: 0.8125 - val_loss: 0.1798 - val_auc: 0.7635\n",
      "Epoch 4/5\n",
      "750/750 - 53s - loss: 0.1551 - auc: 0.8134 - val_loss: 0.1833 - val_auc: 0.7627\n",
      "Epoch 5/5\n",
      "750/750 - 53s - loss: 0.1543 - auc: 0.8111 - val_loss: 0.1846 - val_auc: 0.7623\n"
     ]
    },
    {
     "data": {
      "text/plain": [
       "<keras.callbacks.History at 0x7ff4b2d2e700>"
      ]
     },
     "execution_count": 126,
     "metadata": {},
     "output_type": "execute_result"
    }
   ],
   "source": [
    "model.fit(X_train.toarray(), y_train, validation_data=(X_test.toarray(), y_test),\n",
    "         epochs=5, verbose=2)"
   ]
  },
  {
   "cell_type": "markdown",
   "id": "e396a0e6",
   "metadata": {},
   "source": [
    "## Embedings"
   ]
  },
  {
   "cell_type": "code",
   "execution_count": 134,
   "id": "97f2394c",
   "metadata": {
    "ExecuteTime": {
     "end_time": "2022-01-19T18:13:08.400086Z",
     "start_time": "2022-01-19T18:13:08.351146Z"
    }
   },
   "outputs": [],
   "source": [
    "model = Sequential()\n",
    "model.add(Embedding(64, 300, input_length=10000))\n",
    "model.add(Flatten())\n",
    "model.add(Dense(1, activation='sigmoid'))\n",
    "model.compile(loss='binary_crossentropy', optimizer='adam', metrics=['AUC'])"
   ]
  },
  {
   "cell_type": "code",
   "execution_count": 135,
   "id": "00bd7629",
   "metadata": {
    "ExecuteTime": {
     "end_time": "2022-01-20T03:45:26.139704Z",
     "start_time": "2022-01-19T18:13:08.801664Z"
    }
   },
   "outputs": [
    {
     "name": "stdout",
     "output_type": "stream",
     "text": [
      "Epoch 1/5\n",
      "750/750 - 301s - loss: 0.3693 - auc: 0.4931 - val_loss: 0.3288 - val_auc: 0.5221\n",
      "Epoch 2/5\n",
      "750/750 - 290s - loss: 0.2626 - auc: 0.5208 - val_loss: 0.2495 - val_auc: 0.5413\n",
      "Epoch 3/5\n",
      "750/750 - 294s - loss: 0.2512 - auc: 0.5596 - val_loss: 0.2874 - val_auc: 0.5418\n",
      "Epoch 4/5\n",
      "750/750 - 33161s - loss: 0.2479 - auc: 0.5731 - val_loss: 0.2509 - val_auc: 0.5421\n",
      "Epoch 5/5\n",
      "750/750 - 289s - loss: 1.1735 - auc: 0.5447 - val_loss: 0.2563 - val_auc: 0.5420\n"
     ]
    },
    {
     "data": {
      "text/plain": [
       "<keras.callbacks.History at 0x7ff20ff74820>"
      ]
     },
     "execution_count": 135,
     "metadata": {},
     "output_type": "execute_result"
    }
   ],
   "source": [
    "model.fit(X_train.toarray(), y_train, validation_data=(X_test.toarray(), y_test),\n",
    "         epochs=5, verbose=2)"
   ]
  },
  {
   "cell_type": "code",
   "execution_count": 14,
   "id": "0a90c957",
   "metadata": {
    "ExecuteTime": {
     "end_time": "2022-01-22T08:47:26.401130Z",
     "start_time": "2022-01-22T08:47:26.391947Z"
    }
   },
   "outputs": [
    {
     "data": {
      "text/html": [
       "<div>\n",
       "<style scoped>\n",
       "    .dataframe tbody tr th:only-of-type {\n",
       "        vertical-align: middle;\n",
       "    }\n",
       "\n",
       "    .dataframe tbody tr th {\n",
       "        vertical-align: top;\n",
       "    }\n",
       "\n",
       "    .dataframe thead th {\n",
       "        text-align: right;\n",
       "    }\n",
       "</style>\n",
       "<table border=\"1\" class=\"dataframe\">\n",
       "  <thead>\n",
       "    <tr style=\"text-align: right;\">\n",
       "      <th></th>\n",
       "      <th>label</th>\n",
       "      <th>tweet</th>\n",
       "      <th>cleared_tweets</th>\n",
       "    </tr>\n",
       "  </thead>\n",
       "  <tbody>\n",
       "    <tr>\n",
       "      <th>0</th>\n",
       "      <td>0</td>\n",
       "      <td>@user when a father is dysfunctional and is s...</td>\n",
       "      <td>user when a father is dysfunctional and is so ...</td>\n",
       "    </tr>\n",
       "    <tr>\n",
       "      <th>1</th>\n",
       "      <td>0</td>\n",
       "      <td>@user @user thanks for #lyft credit i can't us...</td>\n",
       "      <td>user user thanks for lyft credit i can t use c...</td>\n",
       "    </tr>\n",
       "    <tr>\n",
       "      <th>2</th>\n",
       "      <td>0</td>\n",
       "      <td>bihday your majesty</td>\n",
       "      <td>bihday your majesty</td>\n",
       "    </tr>\n",
       "    <tr>\n",
       "      <th>3</th>\n",
       "      <td>0</td>\n",
       "      <td>#model   i love u take with u all the time in ...</td>\n",
       "      <td>model i love u take with u all the time in ur</td>\n",
       "    </tr>\n",
       "    <tr>\n",
       "      <th>4</th>\n",
       "      <td>0</td>\n",
       "      <td>factsguide: society now    #motivation</td>\n",
       "      <td>factsguide society now motivation</td>\n",
       "    </tr>\n",
       "    <tr>\n",
       "      <th>...</th>\n",
       "      <td>...</td>\n",
       "      <td>...</td>\n",
       "      <td>...</td>\n",
       "    </tr>\n",
       "    <tr>\n",
       "      <th>31957</th>\n",
       "      <td>0</td>\n",
       "      <td>ate @user isz that youuu?ðððððð...</td>\n",
       "      <td>ate user isz that youuu</td>\n",
       "    </tr>\n",
       "    <tr>\n",
       "      <th>31958</th>\n",
       "      <td>0</td>\n",
       "      <td>to see nina turner on the airwaves trying to...</td>\n",
       "      <td>to see nina turner on the airwaves trying to w...</td>\n",
       "    </tr>\n",
       "    <tr>\n",
       "      <th>31959</th>\n",
       "      <td>0</td>\n",
       "      <td>listening to sad songs on a monday morning otw...</td>\n",
       "      <td>listening to sad songs on a monday morning otw...</td>\n",
       "    </tr>\n",
       "    <tr>\n",
       "      <th>31960</th>\n",
       "      <td>1</td>\n",
       "      <td>@user #sikh #temple vandalised in in #calgary,...</td>\n",
       "      <td>user sikh temple vandalised in in calgary wso ...</td>\n",
       "    </tr>\n",
       "    <tr>\n",
       "      <th>31961</th>\n",
       "      <td>0</td>\n",
       "      <td>thank you @user for you follow</td>\n",
       "      <td>thank you user for you follow</td>\n",
       "    </tr>\n",
       "  </tbody>\n",
       "</table>\n",
       "<p>31962 rows × 3 columns</p>\n",
       "</div>"
      ],
      "text/plain": [
       "       label                                              tweet  \\\n",
       "0          0   @user when a father is dysfunctional and is s...   \n",
       "1          0  @user @user thanks for #lyft credit i can't us...   \n",
       "2          0                                bihday your majesty   \n",
       "3          0  #model   i love u take with u all the time in ...   \n",
       "4          0             factsguide: society now    #motivation   \n",
       "...      ...                                                ...   \n",
       "31957      0  ate @user isz that youuu?ðððððð...   \n",
       "31958      0    to see nina turner on the airwaves trying to...   \n",
       "31959      0  listening to sad songs on a monday morning otw...   \n",
       "31960      1  @user #sikh #temple vandalised in in #calgary,...   \n",
       "31961      0                   thank you @user for you follow     \n",
       "\n",
       "                                          cleared_tweets  \n",
       "0      user when a father is dysfunctional and is so ...  \n",
       "1      user user thanks for lyft credit i can t use c...  \n",
       "2                                    bihday your majesty  \n",
       "3          model i love u take with u all the time in ur  \n",
       "4                      factsguide society now motivation  \n",
       "...                                                  ...  \n",
       "31957                            ate user isz that youuu  \n",
       "31958  to see nina turner on the airwaves trying to w...  \n",
       "31959  listening to sad songs on a monday morning otw...  \n",
       "31960  user sikh temple vandalised in in calgary wso ...  \n",
       "31961                      thank you user for you follow  \n",
       "\n",
       "[31962 rows x 3 columns]"
      ]
     },
     "execution_count": 14,
     "metadata": {},
     "output_type": "execute_result"
    }
   ],
   "source": [
    "train_tweets"
   ]
  },
  {
   "cell_type": "markdown",
   "id": "ad74e033",
   "metadata": {},
   "source": [
    "## Bert"
   ]
  },
  {
   "cell_type": "code",
   "execution_count": 15,
   "id": "697ec625",
   "metadata": {
    "ExecuteTime": {
     "end_time": "2022-01-22T08:48:14.178201Z",
     "start_time": "2022-01-22T08:48:04.187775Z"
    }
   },
   "outputs": [],
   "source": [
    "tokenizer = transformers.BertTokenizer(vocab_file='/Users/evgeniy/Downloads/rubert_cased_L-12_H-768_A-12_pt/vocab.txt')\n",
    "tokenized = train_tweets['cleared_tweets'].apply(lambda x: tokenizer.encode(x, add_special_tokens=True))"
   ]
  },
  {
   "cell_type": "code",
   "execution_count": 20,
   "id": "1eb5d891",
   "metadata": {
    "ExecuteTime": {
     "end_time": "2022-01-22T08:51:46.527631Z",
     "start_time": "2022-01-22T08:51:46.289676Z"
    }
   },
   "outputs": [],
   "source": [
    "maxlen = len(max(tokenized, key=len))\n",
    "padded = np.array([i + [0] * (maxlen - len(i)) for i in tokenized])\n",
    "attention_mask = np.where(padded != 0, 1, 0)"
   ]
  },
  {
   "cell_type": "code",
   "execution_count": 23,
   "id": "91242831",
   "metadata": {
    "ExecuteTime": {
     "end_time": "2022-01-22T08:53:35.289662Z",
     "start_time": "2022-01-22T08:53:33.740123Z"
    }
   },
   "outputs": [
    {
     "name": "stderr",
     "output_type": "stream",
     "text": [
      "Some weights of the model checkpoint at /Users/evgeniy/Downloads/rubert_cased_L-12_H-768_A-12_pt/pytorch_model.bin were not used when initializing BertModel: ['cls.predictions.bias', 'cls.predictions.transform.LayerNorm.bias', 'cls.seq_relationship.weight', 'cls.predictions.transform.dense.weight', 'cls.predictions.transform.dense.bias', 'cls.seq_relationship.bias', 'cls.predictions.transform.LayerNorm.weight', 'cls.predictions.decoder.weight']\n",
      "- This IS expected if you are initializing BertModel from the checkpoint of a model trained on another task or with another architecture (e.g. initializing a BertForSequenceClassification model from a BertForPreTraining model).\n",
      "- This IS NOT expected if you are initializing BertModel from the checkpoint of a model that you expect to be exactly identical (initializing a BertForSequenceClassification model from a BertForSequenceClassification model).\n"
     ]
    }
   ],
   "source": [
    "config = transformers.BertConfig.from_json_file('/Users/evgeniy/Downloads/rubert_cased_L-12_H-768_A-12_pt/bert_config.json')\n",
    "model = transformers.BertModel.from_pretrained('/Users/evgeniy/Downloads/rubert_cased_L-12_H-768_A-12_pt/pytorch_model.bin', config=config)"
   ]
  },
  {
   "cell_type": "code",
   "execution_count": 27,
   "id": "9295821d",
   "metadata": {
    "ExecuteTime": {
     "end_time": "2022-01-22T08:59:30.281771Z",
     "start_time": "2022-01-22T08:59:30.279487Z"
    }
   },
   "outputs": [],
   "source": [
    "batch_size = 100\n",
    "embedings = []"
   ]
  },
  {
   "cell_type": "code",
   "execution_count": 28,
   "id": "0df381ea",
   "metadata": {
    "ExecuteTime": {
     "end_time": "2022-01-22T10:17:12.773961Z",
     "start_time": "2022-01-22T09:02:41.782760Z"
    }
   },
   "outputs": [
    {
     "data": {
      "application/vnd.jupyter.widget-view+json": {
       "model_id": "ab5ad10e4c404083980a494dd8ec4902",
       "version_major": 2,
       "version_minor": 0
      },
      "text/plain": [
       "  0%|          | 0/319 [00:00<?, ?it/s]"
      ]
     },
     "metadata": {},
     "output_type": "display_data"
    }
   ],
   "source": [
    "for i in notebook.tqdm(range(train_tweets.shape[0]//batch_size)):\n",
    "    batch = torch.LongTensor(padded[batch_size*i:batch_size*(i+1)])\n",
    "    attention_batch = torch.LongTensor(attention_mask[batch_size*i:batch_size*(i+1)])\n",
    "    with torch.no_grad():\n",
    "        batch_embedings = model(batch, attention_batch)\n",
    "    embedings.append(batch_embedings[0][:,0,:].numpy())"
   ]
  },
  {
   "cell_type": "code",
   "execution_count": 46,
   "id": "aa2b19b8",
   "metadata": {
    "ExecuteTime": {
     "end_time": "2022-01-22T10:37:08.602961Z",
     "start_time": "2022-01-22T10:37:08.579271Z"
    }
   },
   "outputs": [],
   "source": [
    "features = np.concatenate(embedings)\n",
    "labels = train_tweets.loc[:31899, 'label']"
   ]
  },
  {
   "cell_type": "code",
   "execution_count": 47,
   "id": "7b4251e0",
   "metadata": {
    "ExecuteTime": {
     "end_time": "2022-01-22T10:37:09.239527Z",
     "start_time": "2022-01-22T10:37:09.149018Z"
    }
   },
   "outputs": [],
   "source": [
    "X_train, X_test, y_train, y_test = train_test_split(features, labels, random_state=42, test_size=.25)"
   ]
  },
  {
   "cell_type": "code",
   "execution_count": 49,
   "id": "361e474d",
   "metadata": {
    "ExecuteTime": {
     "end_time": "2022-01-22T10:38:51.137479Z",
     "start_time": "2022-01-22T10:38:51.113777Z"
    }
   },
   "outputs": [],
   "source": [
    "model = Sequential()\n",
    "model.add(Dense(1024, activation='relu', input_dim=features.shape[1]))\n",
    "model.add(Dense(1, activation='sigmoid'))\n",
    "model.compile(loss='binary_crossentropy', optimizer='adam', metrics=['AUC'])"
   ]
  },
  {
   "cell_type": "code",
   "execution_count": 50,
   "id": "b862f2cb",
   "metadata": {
    "ExecuteTime": {
     "end_time": "2022-01-22T10:39:32.804420Z",
     "start_time": "2022-01-22T10:39:15.781303Z"
    }
   },
   "outputs": [
    {
     "name": "stdout",
     "output_type": "stream",
     "text": [
      "Epoch 1/5\n",
      "748/748 - 4s - loss: 0.1930 - auc: 0.8379 - val_loss: 0.1785 - val_auc: 0.8873\n",
      "Epoch 2/5\n",
      "748/748 - 3s - loss: 0.1760 - auc: 0.8692 - val_loss: 0.1738 - val_auc: 0.8851\n",
      "Epoch 3/5\n",
      "748/748 - 3s - loss: 0.1671 - auc: 0.8853 - val_loss: 0.1720 - val_auc: 0.8963\n",
      "Epoch 4/5\n",
      "748/748 - 3s - loss: 0.1608 - auc: 0.8947 - val_loss: 0.1728 - val_auc: 0.8990\n",
      "Epoch 5/5\n",
      "748/748 - 3s - loss: 0.1560 - auc: 0.9010 - val_loss: 0.1690 - val_auc: 0.8933\n"
     ]
    },
    {
     "data": {
      "text/plain": [
       "<keras.callbacks.History at 0x7f81d16ca2e0>"
      ]
     },
     "execution_count": 50,
     "metadata": {},
     "output_type": "execute_result"
    }
   ],
   "source": [
    "model.fit(X_train, y_train,\n",
    "         validation_data=(X_test, y_test),\n",
    "         epochs=5, verbose=2)"
   ]
  },
  {
   "cell_type": "code",
   "execution_count": 51,
   "id": "3b1d58fa",
   "metadata": {
    "ExecuteTime": {
     "end_time": "2022-01-22T10:40:30.224683Z",
     "start_time": "2022-01-22T10:39:41.404288Z"
    }
   },
   "outputs": [
    {
     "name": "stdout",
     "output_type": "stream",
     "text": [
      "Epoch 1/15\n",
      "748/748 - 3s - loss: 0.1476 - auc: 0.9130 - val_loss: 0.1608 - val_auc: 0.9042\n",
      "Epoch 2/15\n",
      "748/748 - 3s - loss: 0.1407 - auc: 0.9220 - val_loss: 0.1774 - val_auc: 0.8987\n",
      "Epoch 3/15\n",
      "748/748 - 3s - loss: 0.1329 - auc: 0.9304 - val_loss: 0.1824 - val_auc: 0.9067\n",
      "Epoch 4/15\n",
      "748/748 - 3s - loss: 0.1279 - auc: 0.9366 - val_loss: 0.1669 - val_auc: 0.9055\n",
      "Epoch 5/15\n",
      "748/748 - 3s - loss: 0.1185 - auc: 0.9471 - val_loss: 0.1715 - val_auc: 0.8982\n",
      "Epoch 6/15\n",
      "748/748 - 3s - loss: 0.1098 - auc: 0.9539 - val_loss: 0.1813 - val_auc: 0.8940\n",
      "Epoch 7/15\n",
      "748/748 - 3s - loss: 0.1040 - auc: 0.9597 - val_loss: 0.1818 - val_auc: 0.8901\n",
      "Epoch 8/15\n",
      "748/748 - 3s - loss: 0.0941 - auc: 0.9670 - val_loss: 0.1788 - val_auc: 0.8950\n",
      "Epoch 9/15\n",
      "748/748 - 3s - loss: 0.0872 - auc: 0.9718 - val_loss: 0.1771 - val_auc: 0.9031\n",
      "Epoch 10/15\n",
      "748/748 - 3s - loss: 0.0806 - auc: 0.9753 - val_loss: 0.2181 - val_auc: 0.8632\n",
      "Epoch 11/15\n",
      "748/748 - 3s - loss: 0.0735 - auc: 0.9798 - val_loss: 0.1910 - val_auc: 0.8931\n",
      "Epoch 12/15\n",
      "748/748 - 3s - loss: 0.0674 - auc: 0.9841 - val_loss: 0.2027 - val_auc: 0.8855\n",
      "Epoch 13/15\n",
      "748/748 - 3s - loss: 0.0598 - auc: 0.9864 - val_loss: 0.2167 - val_auc: 0.8712\n",
      "Epoch 14/15\n",
      "748/748 - 3s - loss: 0.0561 - auc: 0.9883 - val_loss: 0.2211 - val_auc: 0.8750\n",
      "Epoch 15/15\n",
      "748/748 - 3s - loss: 0.0500 - auc: 0.9908 - val_loss: 0.2467 - val_auc: 0.8523\n"
     ]
    },
    {
     "data": {
      "text/plain": [
       "<keras.callbacks.History at 0x7f81d2dc6640>"
      ]
     },
     "execution_count": 51,
     "metadata": {},
     "output_type": "execute_result"
    }
   ],
   "source": [
    "model.fit(X_train, y_train,\n",
    "         validation_data=(X_test, y_test),\n",
    "         epochs=15, verbose=2)"
   ]
  },
  {
   "cell_type": "code",
   "execution_count": 53,
   "id": "22df89f2",
   "metadata": {
    "ExecuteTime": {
     "end_time": "2022-01-22T10:42:44.154586Z",
     "start_time": "2022-01-22T10:42:44.031659Z"
    }
   },
   "outputs": [
    {
     "data": {
      "image/png": "[encoded data removed]",
      "text/plain": [
       "<Figure size 432x288 with 1 Axes>"
      ]
     },
     "metadata": {
      "needs_background": "light"
     },
     "output_type": "display_data"
    }
   ],
   "source": [
    "plt.plot(range(0, 15), model.history.history['auc'], label='train_auc')\n",
    "plt.plot(range(0, 15), model.history.history['val_auc'], label='val_auc')\n",
    "plt.legend();"
   ]
  },
  {
   "cell_type": "code",
   "execution_count": 54,
   "id": "35aacfd5",
   "metadata": {
    "ExecuteTime": {
     "end_time": "2022-01-22T10:43:07.169452Z",
     "start_time": "2022-01-22T10:43:07.141375Z"
    }
   },
   "outputs": [],
   "source": [
    "model = Sequential()\n",
    "model.add(Dense(1024, activation='relu', input_dim=features.shape[1]))\n",
    "model.add(Dropout(.5))\n",
    "model.add(Dense(1, activation='sigmoid'))\n",
    "model.compile(loss='binary_crossentropy', optimizer='adam', metrics=['AUC'])"
   ]
  },
  {
   "cell_type": "code",
   "execution_count": 56,
   "id": "7553a919",
   "metadata": {
    "ExecuteTime": {
     "end_time": "2022-01-22T10:46:53.371254Z",
     "start_time": "2022-01-22T10:44:10.386588Z"
    }
   },
   "outputs": [
    {
     "name": "stdout",
     "output_type": "stream",
     "text": [
      "Epoch 1/50\n",
      "748/748 - 3s - loss: 0.1403 - auc: 0.9234 - val_loss: 0.1634 - val_auc: 0.9023\n",
      "Epoch 2/50\n",
      "748/748 - 4s - loss: 0.1406 - auc: 0.9233 - val_loss: 0.1626 - val_auc: 0.9046\n",
      "Epoch 3/50\n",
      "748/748 - 3s - loss: 0.1375 - auc: 0.9233 - val_loss: 0.1630 - val_auc: 0.9056\n",
      "Epoch 4/50\n",
      "748/748 - 3s - loss: 0.1334 - auc: 0.9295 - val_loss: 0.1642 - val_auc: 0.9029\n",
      "Epoch 5/50\n",
      "748/748 - 3s - loss: 0.1325 - auc: 0.9308 - val_loss: 0.1679 - val_auc: 0.9025\n",
      "Epoch 6/50\n",
      "748/748 - 3s - loss: 0.1293 - auc: 0.9343 - val_loss: 0.1671 - val_auc: 0.9017\n",
      "Epoch 7/50\n",
      "748/748 - 3s - loss: 0.1262 - auc: 0.9371 - val_loss: 0.1637 - val_auc: 0.9040\n",
      "Epoch 8/50\n",
      "748/748 - 3s - loss: 0.1261 - auc: 0.9386 - val_loss: 0.1673 - val_auc: 0.9018\n",
      "Epoch 9/50\n",
      "748/748 - 3s - loss: 0.1223 - auc: 0.9416 - val_loss: 0.1648 - val_auc: 0.9032\n",
      "Epoch 10/50\n",
      "748/748 - 3s - loss: 0.1205 - auc: 0.9428 - val_loss: 0.1785 - val_auc: 0.8936\n",
      "Epoch 11/50\n",
      "748/748 - 3s - loss: 0.1174 - auc: 0.9456 - val_loss: 0.1726 - val_auc: 0.9012\n",
      "Epoch 12/50\n",
      "748/748 - 3s - loss: 0.1159 - auc: 0.9487 - val_loss: 0.1683 - val_auc: 0.9019\n",
      "Epoch 13/50\n",
      "748/748 - 3s - loss: 0.1129 - auc: 0.9490 - val_loss: 0.1698 - val_auc: 0.8992\n",
      "Epoch 14/50\n",
      "748/748 - 3s - loss: 0.1132 - auc: 0.9513 - val_loss: 0.1756 - val_auc: 0.8978\n",
      "Epoch 15/50\n",
      "748/748 - 3s - loss: 0.1090 - auc: 0.9546 - val_loss: 0.1726 - val_auc: 0.8951\n",
      "Epoch 16/50\n",
      "748/748 - 3s - loss: 0.1068 - auc: 0.9556 - val_loss: 0.1728 - val_auc: 0.8973\n",
      "Epoch 17/50\n",
      "748/748 - 3s - loss: 0.1042 - auc: 0.9589 - val_loss: 0.1690 - val_auc: 0.9042\n",
      "Epoch 18/50\n",
      "748/748 - 3s - loss: 0.1040 - auc: 0.9586 - val_loss: 0.1798 - val_auc: 0.8951\n",
      "Epoch 19/50\n",
      "748/748 - 3s - loss: 0.0994 - auc: 0.9621 - val_loss: 0.1861 - val_auc: 0.8957\n",
      "Epoch 20/50\n",
      "748/748 - 3s - loss: 0.1003 - auc: 0.9599 - val_loss: 0.1782 - val_auc: 0.8938\n",
      "Epoch 21/50\n",
      "748/748 - 4s - loss: 0.0977 - auc: 0.9628 - val_loss: 0.1860 - val_auc: 0.8870\n",
      "Epoch 22/50\n",
      "748/748 - 3s - loss: 0.0956 - auc: 0.9668 - val_loss: 0.1781 - val_auc: 0.8945\n",
      "Epoch 23/50\n",
      "748/748 - 3s - loss: 0.0947 - auc: 0.9670 - val_loss: 0.2044 - val_auc: 0.8806\n",
      "Epoch 24/50\n",
      "748/748 - 3s - loss: 0.0938 - auc: 0.9663 - val_loss: 0.1907 - val_auc: 0.8937\n",
      "Epoch 25/50\n",
      "748/748 - 3s - loss: 0.0904 - auc: 0.9694 - val_loss: 0.1838 - val_auc: 0.8914\n",
      "Epoch 26/50\n",
      "748/748 - 3s - loss: 0.0894 - auc: 0.9703 - val_loss: 0.1992 - val_auc: 0.8831\n",
      "Epoch 27/50\n",
      "748/748 - 3s - loss: 0.0879 - auc: 0.9715 - val_loss: 0.1953 - val_auc: 0.8874\n",
      "Epoch 28/50\n",
      "748/748 - 3s - loss: 0.0838 - auc: 0.9747 - val_loss: 0.1986 - val_auc: 0.8844\n",
      "Epoch 29/50\n",
      "748/748 - 3s - loss: 0.0868 - auc: 0.9724 - val_loss: 0.2173 - val_auc: 0.8670\n",
      "Epoch 30/50\n",
      "748/748 - 3s - loss: 0.0822 - auc: 0.9755 - val_loss: 0.1948 - val_auc: 0.8832\n",
      "Epoch 31/50\n",
      "748/748 - 3s - loss: 0.0785 - auc: 0.9773 - val_loss: 0.1996 - val_auc: 0.8819\n",
      "Epoch 32/50\n",
      "748/748 - 3s - loss: 0.0832 - auc: 0.9752 - val_loss: 0.2022 - val_auc: 0.8817\n",
      "Epoch 33/50\n",
      "748/748 - 3s - loss: 0.0798 - auc: 0.9747 - val_loss: 0.2057 - val_auc: 0.8766\n",
      "Epoch 34/50\n",
      "748/748 - 3s - loss: 0.0765 - auc: 0.9783 - val_loss: 0.2107 - val_auc: 0.8818\n",
      "Epoch 35/50\n",
      "748/748 - 3s - loss: 0.0748 - auc: 0.9790 - val_loss: 0.2113 - val_auc: 0.8751\n",
      "Epoch 36/50\n",
      "748/748 - 3s - loss: 0.0740 - auc: 0.9802 - val_loss: 0.2058 - val_auc: 0.8778\n",
      "Epoch 37/50\n",
      "748/748 - 3s - loss: 0.0732 - auc: 0.9807 - val_loss: 0.2201 - val_auc: 0.8718\n",
      "Epoch 38/50\n",
      "748/748 - 3s - loss: 0.0737 - auc: 0.9805 - val_loss: 0.2148 - val_auc: 0.8736\n",
      "Epoch 39/50\n",
      "748/748 - 3s - loss: 0.0712 - auc: 0.9821 - val_loss: 0.2136 - val_auc: 0.8783\n",
      "Epoch 40/50\n",
      "748/748 - 3s - loss: 0.0732 - auc: 0.9801 - val_loss: 0.2099 - val_auc: 0.8805\n",
      "Epoch 41/50\n",
      "748/748 - 3s - loss: 0.0702 - auc: 0.9826 - val_loss: 0.2278 - val_auc: 0.8719\n",
      "Epoch 42/50\n",
      "748/748 - 3s - loss: 0.0690 - auc: 0.9812 - val_loss: 0.2346 - val_auc: 0.8634\n",
      "Epoch 43/50\n",
      "748/748 - 3s - loss: 0.0677 - auc: 0.9825 - val_loss: 0.2194 - val_auc: 0.8820\n",
      "Epoch 44/50\n",
      "748/748 - 3s - loss: 0.0704 - auc: 0.9814 - val_loss: 0.2319 - val_auc: 0.8703\n",
      "Epoch 45/50\n",
      "748/748 - 3s - loss: 0.0649 - auc: 0.9825 - val_loss: 0.2276 - val_auc: 0.8667\n",
      "Epoch 46/50\n",
      "748/748 - 3s - loss: 0.0688 - auc: 0.9824 - val_loss: 0.2371 - val_auc: 0.8702\n",
      "Epoch 47/50\n",
      "748/748 - 4s - loss: 0.0650 - auc: 0.9849 - val_loss: 0.2246 - val_auc: 0.8764\n",
      "Epoch 48/50\n",
      "748/748 - 3s - loss: 0.0643 - auc: 0.9852 - val_loss: 0.2512 - val_auc: 0.8563\n",
      "Epoch 49/50\n",
      "748/748 - 3s - loss: 0.0657 - auc: 0.9843 - val_loss: 0.2401 - val_auc: 0.8617\n",
      "Epoch 50/50\n",
      "748/748 - 3s - loss: 0.0618 - auc: 0.9855 - val_loss: 0.2621 - val_auc: 0.8491\n"
     ]
    },
    {
     "data": {
      "text/plain": [
       "<keras.callbacks.History at 0x7f81d5e5f7c0>"
      ]
     },
     "execution_count": 56,
     "metadata": {},
     "output_type": "execute_result"
    }
   ],
   "source": [
    "model.fit(X_train, y_train,\n",
    "         validation_data=(X_test, y_test),\n",
    "         epochs=50, verbose=2)"
   ]
  },
  {
   "cell_type": "code",
   "execution_count": 57,
   "id": "6c4028f1",
   "metadata": {
    "ExecuteTime": {
     "end_time": "2022-01-22T10:47:01.155765Z",
     "start_time": "2022-01-22T10:47:01.042270Z"
    }
   },
   "outputs": [
    {
     "data": {
      "image/png": "[encoded data removed]",
      "text/plain": [
       "<Figure size 432x288 with 1 Axes>"
      ]
     },
     "metadata": {
      "needs_background": "light"
     },
     "output_type": "display_data"
    }
   ],
   "source": [
    "plt.plot(range(0, 50), model.history.history['auc'], label='train_auc')\n",
    "plt.plot(range(0, 50), model.history.history['val_auc'], label='val_auc')\n",
    "plt.legend();"
   ]
  },
  {
   "cell_type": "markdown",
   "id": "e61e4246",
   "metadata": {},
   "source": [
    "# Lemming"
   ]
  },
  {
   "cell_type": "code",
   "execution_count": 75,
   "id": "e44a2dca",
   "metadata": {
    "ExecuteTime": {
     "end_time": "2022-01-22T10:56:05.775340Z",
     "start_time": "2022-01-22T10:56:05.750287Z"
    }
   },
   "outputs": [
    {
     "name": "stderr",
     "output_type": "stream",
     "text": [
      "[nltk_data] Downloading package wordnet to /Users/evgeniy/nltk_data...\n",
      "[nltk_data]   Package wordnet is already up-to-date!\n"
     ]
    }
   ],
   "source": [
    "from nltk.stem import WordNetLemmatizer\n",
    "nltk.download('wordnet')\n",
    " \n",
    "lemmatizer = WordNetLemmatizer()"
   ]
  },
  {
   "cell_type": "code",
   "execution_count": 73,
   "id": "d177b66e",
   "metadata": {
    "ExecuteTime": {
     "end_time": "2022-01-22T10:55:14.595296Z",
     "start_time": "2022-01-22T10:55:13.511743Z"
    }
   },
   "outputs": [],
   "source": [
    "train_tweets['lemmas'] = train_tweets['cleared_tweets'].apply(\n",
    "    lambda x: ' '.join(\n",
    "        [lemmatizer.lemmatize(i) for i in x.split()]\n",
    "    )\n",
    ")"
   ]
  },
  {
   "cell_type": "code",
   "execution_count": 78,
   "id": "15445553",
   "metadata": {
    "ExecuteTime": {
     "end_time": "2022-01-22T10:57:39.399234Z",
     "start_time": "2022-01-22T10:57:39.396856Z"
    }
   },
   "outputs": [],
   "source": [
    "tokenizer = text.Tokenizer()"
   ]
  },
  {
   "cell_type": "code",
   "execution_count": 87,
   "id": "3c6c991c",
   "metadata": {
    "ExecuteTime": {
     "end_time": "2022-01-22T10:59:41.006435Z",
     "start_time": "2022-01-22T10:59:40.550302Z"
    }
   },
   "outputs": [],
   "source": [
    "tokenizer.fit_on_texts(train_tweets['lemmas'].values.astype('U'))"
   ]
  },
  {
   "cell_type": "code",
   "execution_count": 90,
   "id": "fe486701",
   "metadata": {
    "ExecuteTime": {
     "end_time": "2022-01-22T11:01:16.562173Z",
     "start_time": "2022-01-22T11:01:15.804983Z"
    }
   },
   "outputs": [],
   "source": [
    "tokens = tokenizer.texts_to_matrix(train_tweets['lemmas'].values.astype('U'))"
   ]
  },
  {
   "cell_type": "code",
   "execution_count": 94,
   "id": "983b1ef5",
   "metadata": {
    "ExecuteTime": {
     "end_time": "2022-01-22T11:02:18.196906Z",
     "start_time": "2022-01-22T11:02:06.556798Z"
    }
   },
   "outputs": [],
   "source": [
    "X_train, X_test, y_train, y_test = train_test_split(tokens, train_tweets['label'],\n",
    "                                                   random_state=42, test_size=.25)"
   ]
  },
  {
   "cell_type": "code",
   "execution_count": 100,
   "id": "28daed80",
   "metadata": {
    "ExecuteTime": {
     "end_time": "2022-01-22T11:15:37.165849Z",
     "start_time": "2022-01-22T11:15:36.918311Z"
    }
   },
   "outputs": [],
   "source": [
    "model = Sequential()\n",
    "model.add(Dense(1024, input_dim=X_train.shape[1], activation='relu'))\n",
    "model.add(Dense(1024, activation='relu'))\n",
    "model.add(Dropout(.5))\n",
    "model.add(Dense(1024, activation='relu'))\n",
    "model.add(Dropout(.5))\n",
    "model.add(Dense(1, activation='sigmoid'))\n",
    "model.compile(loss='binary_crossentropy', metrics=['AUC'], optimizer='adam')"
   ]
  },
  {
   "cell_type": "code",
   "execution_count": 101,
   "id": "34bd116c",
   "metadata": {
    "ExecuteTime": {
     "end_time": "2022-01-22T11:25:59.428579Z",
     "start_time": "2022-01-22T11:15:37.685091Z"
    }
   },
   "outputs": [
    {
     "name": "stdout",
     "output_type": "stream",
     "text": [
      "Epoch 1/5\n",
      "750/750 - 127s - loss: 0.1619 - auc: 0.8946 - val_loss: 0.1396 - val_auc: 0.9273\n",
      "Epoch 2/5\n",
      "750/750 - 123s - loss: 0.0426 - auc: 0.9923 - val_loss: 0.1530 - val_auc: 0.9230\n",
      "Epoch 3/5\n",
      "750/750 - 122s - loss: 0.0075 - auc: 0.9986 - val_loss: 0.2921 - val_auc: 0.8766\n",
      "Epoch 4/5\n",
      "750/750 - 122s - loss: 0.0027 - auc: 0.9997 - val_loss: 0.3980 - val_auc: 0.8560\n",
      "Epoch 5/5\n",
      "750/750 - 121s - loss: 7.9005e-04 - auc: 1.0000 - val_loss: 0.4980 - val_auc: 0.8330\n"
     ]
    },
    {
     "data": {
      "text/plain": [
       "<keras.callbacks.History at 0x7f84f2355490>"
      ]
     },
     "execution_count": 101,
     "metadata": {},
     "output_type": "execute_result"
    }
   ],
   "source": [
    "model.fit(X_train, y_train, validation_data=(X_test, y_test),\n",
    "         epochs=5, verbose=2)"
   ]
  },
  {
   "cell_type": "code",
   "execution_count": 102,
   "id": "c780d844",
   "metadata": {
    "ExecuteTime": {
     "end_time": "2022-01-22T11:28:53.165271Z",
     "start_time": "2022-01-22T11:28:52.891632Z"
    }
   },
   "outputs": [
    {
     "data": {
      "image/png": "[encoded data removed]",
      "text/plain": [
       "<Figure size 432x288 with 1 Axes>"
      ]
     },
     "metadata": {
      "needs_background": "light"
     },
     "output_type": "display_data"
    }
   ],
   "source": [
    "plt.plot(range(0, 5), model.history.history['auc'], label='train_auc')\n",
    "plt.plot(range(0, 5), model.history.history['val_auc'], label='val_auc')\n",
    "plt.legend();"
   ]
  },
  {
   "cell_type": "code",
   "execution_count": null,
   "id": "b0f1e20d",
   "metadata": {},
   "outputs": [],
   "source": []
  }
 ],
 "metadata": {
  "kernelspec": {
   "display_name": "Python 3",
   "language": "python",
   "name": "python3"
  },
  "language_info": {
   "codemirror_mode": {
    "name": "ipython",
    "version": 3
   },
   "file_extension": ".py",
   "mimetype": "text/x-python",
   "name": "python",
   "nbconvert_exporter": "python",
   "pygments_lexer": "ipython3",
   "version": "3.8.8"
  },
  "toc": {
   "base_numbering": 1,
   "nav_menu": {},
   "number_sections": true,
   "sideBar": true,
   "skip_h1_title": false,
   "title_cell": "Table of Contents",
   "title_sidebar": "Contents",
   "toc_cell": false,
   "toc_position": {},
   "toc_section_display": true,
   "toc_window_display": false
  },
  "varInspector": {
   "cols": {
    "lenName": 16,
    "lenType": 16,
    "lenVar": 40
   },
   "kernels_config": {
    "python": {
     "delete_cmd_postfix": "",
     "delete_cmd_prefix": "del ",
     "library": "var_list.py",
     "varRefreshCmd": "print(var_dic_list())"
    },
    "r": {
     "delete_cmd_postfix": ") ",
     "delete_cmd_prefix": "rm(",
     "library": "var_list.r",
     "varRefreshCmd": "cat(var_dic_list()) "
    }
   },
   "types_to_exclude": [
    "module",
    "function",
    "builtin_function_or_method",
    "instance",
    "_Feature"
   ],
   "window_display": false
  }
 },
 "nbformat": 4,
 "nbformat_minor": 5
}
