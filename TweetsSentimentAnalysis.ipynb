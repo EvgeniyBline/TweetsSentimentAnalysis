{
 "cells": [
  {
   "cell_type": "code",
   "execution_count": 133,
   "id": "e76c8fda",
   "metadata": {
    "ExecuteTime": {
     "end_time": "2022-01-19T18:13:03.313821Z",
     "start_time": "2022-01-19T18:13:03.306847Z"
    }
   },
   "outputs": [
    {
     "name": "stderr",
     "output_type": "stream",
     "text": [
      "[nltk_data] Downloading package stopwords to\n",
      "[nltk_data]     /Users/evgeniy/nltk_data...\n",
      "[nltk_data]   Package stopwords is already up-to-date!\n"
     ]
    },
    {
     "data": {
      "text/plain": [
       "True"
      ]
     },
     "execution_count": 133,
     "metadata": {},
     "output_type": "execute_result"
    }
   ],
   "source": [
    "import pandas as pd\n",
    "import nltk \n",
    "from nltk.corpus import stopwords\n",
    "import re\n",
    "from sklearn.feature_extraction.text import TfidfVectorizer\n",
    "from sklearn.model_selection import train_test_split\n",
    "from sklearn.naive_bayes import BernoulliNB, GaussianNB, MultinomialNB\n",
    "from sklearn.metrics import roc_auc_score, roc_curve, confusion_matrix\n",
    "from tensorflow.keras.models import Sequential\n",
    "from tensorflow.keras.layers import Dense, Embedding, Dropout, Flatten\n",
    "from tensorflow.keras.preprocessing.sequence import pad_sequences\n",
    "from tensorflow.keras.preprocessing import text\n",
    "from matplotlib import pyplot as plt\n",
    "import seaborn as sns\n",
    "\n",
    "\n",
    "nltk.download('stopwords')"
   ]
  },
  {
   "cell_type": "markdown",
   "id": "ee97d7dd",
   "metadata": {},
   "source": [
    "dataset source https://www.kaggle.com/arkhoshghalb/twitter-sentiment-analysis-hatred-speech"
   ]
  },
  {
   "cell_type": "markdown",
   "id": "8412f53b",
   "metadata": {},
   "source": [
    "# Feature extraction"
   ]
  },
  {
   "cell_type": "code",
   "execution_count": 4,
   "id": "c2f9ad0a",
   "metadata": {
    "ExecuteTime": {
     "end_time": "2022-01-19T17:26:52.886336Z",
     "start_time": "2022-01-19T17:26:52.814798Z"
    }
   },
   "outputs": [],
   "source": [
    "train_tweets = pd.read_csv('/Users/evgeniy/Downloads/archive-3/train.csv', usecols=['label', 'tweet'])\n",
    "test_tweets = pd.read_csv('/Users/evgeniy/Downloads/archive-3/test.csv')"
   ]
  },
  {
   "cell_type": "code",
   "execution_count": 5,
   "id": "9929791c",
   "metadata": {
    "ExecuteTime": {
     "end_time": "2022-01-19T17:26:54.593115Z",
     "start_time": "2022-01-19T17:26:54.578370Z"
    }
   },
   "outputs": [
    {
     "name": "stdout",
     "output_type": "stream",
     "text": [
      "<class 'pandas.core.frame.DataFrame'>\n",
      "RangeIndex: 31962 entries, 0 to 31961\n",
      "Data columns (total 2 columns):\n",
      " #   Column  Non-Null Count  Dtype \n",
      "---  ------  --------------  ----- \n",
      " 0   label   31962 non-null  int64 \n",
      " 1   tweet   31962 non-null  object\n",
      "dtypes: int64(1), object(1)\n",
      "memory usage: 499.5+ KB\n"
     ]
    }
   ],
   "source": [
    "train_tweets.info()"
   ]
  },
  {
   "cell_type": "code",
   "execution_count": 6,
   "id": "d6ded995",
   "metadata": {
    "ExecuteTime": {
     "end_time": "2022-01-19T17:26:55.257727Z",
     "start_time": "2022-01-19T17:26:55.248988Z"
    }
   },
   "outputs": [
    {
     "name": "stdout",
     "output_type": "stream",
     "text": [
      "<class 'pandas.core.frame.DataFrame'>\n",
      "RangeIndex: 17197 entries, 0 to 17196\n",
      "Data columns (total 2 columns):\n",
      " #   Column  Non-Null Count  Dtype \n",
      "---  ------  --------------  ----- \n",
      " 0   id      17197 non-null  int64 \n",
      " 1   tweet   17197 non-null  object\n",
      "dtypes: int64(1), object(1)\n",
      "memory usage: 268.8+ KB\n"
     ]
    }
   ],
   "source": [
    "test_tweets.info()"
   ]
  },
  {
   "cell_type": "code",
   "execution_count": 7,
   "id": "55462521",
   "metadata": {
    "ExecuteTime": {
     "end_time": "2022-01-19T17:26:56.834377Z",
     "start_time": "2022-01-19T17:26:56.831007Z"
    }
   },
   "outputs": [],
   "source": [
    "stop_words = set(stopwords.words('english'))"
   ]
  },
  {
   "cell_type": "code",
   "execution_count": 8,
   "id": "0f6ff422",
   "metadata": {
    "ExecuteTime": {
     "end_time": "2022-01-19T17:26:57.085788Z",
     "start_time": "2022-01-19T17:26:57.079551Z"
    }
   },
   "outputs": [
    {
     "data": {
      "text/html": [
       "<div>\n",
       "<style scoped>\n",
       "    .dataframe tbody tr th:only-of-type {\n",
       "        vertical-align: middle;\n",
       "    }\n",
       "\n",
       "    .dataframe tbody tr th {\n",
       "        vertical-align: top;\n",
       "    }\n",
       "\n",
       "    .dataframe thead th {\n",
       "        text-align: right;\n",
       "    }\n",
       "</style>\n",
       "<table border=\"1\" class=\"dataframe\">\n",
       "  <thead>\n",
       "    <tr style=\"text-align: right;\">\n",
       "      <th></th>\n",
       "      <th>label</th>\n",
       "      <th>tweet</th>\n",
       "    </tr>\n",
       "  </thead>\n",
       "  <tbody>\n",
       "    <tr>\n",
       "      <th>0</th>\n",
       "      <td>0</td>\n",
       "      <td>@user when a father is dysfunctional and is s...</td>\n",
       "    </tr>\n",
       "    <tr>\n",
       "      <th>1</th>\n",
       "      <td>0</td>\n",
       "      <td>@user @user thanks for #lyft credit i can't us...</td>\n",
       "    </tr>\n",
       "    <tr>\n",
       "      <th>2</th>\n",
       "      <td>0</td>\n",
       "      <td>bihday your majesty</td>\n",
       "    </tr>\n",
       "    <tr>\n",
       "      <th>3</th>\n",
       "      <td>0</td>\n",
       "      <td>#model   i love u take with u all the time in ...</td>\n",
       "    </tr>\n",
       "    <tr>\n",
       "      <th>4</th>\n",
       "      <td>0</td>\n",
       "      <td>factsguide: society now    #motivation</td>\n",
       "    </tr>\n",
       "  </tbody>\n",
       "</table>\n",
       "</div>"
      ],
      "text/plain": [
       "   label                                              tweet\n",
       "0      0   @user when a father is dysfunctional and is s...\n",
       "1      0  @user @user thanks for #lyft credit i can't us...\n",
       "2      0                                bihday your majesty\n",
       "3      0  #model   i love u take with u all the time in ...\n",
       "4      0             factsguide: society now    #motivation"
      ]
     },
     "execution_count": 8,
     "metadata": {},
     "output_type": "execute_result"
    }
   ],
   "source": [
    "train_tweets.head()"
   ]
  },
  {
   "cell_type": "code",
   "execution_count": 9,
   "id": "8490d799",
   "metadata": {
    "ExecuteTime": {
     "end_time": "2022-01-19T17:26:57.872723Z",
     "start_time": "2022-01-19T17:26:57.678902Z"
    }
   },
   "outputs": [],
   "source": [
    "train_tweets['cleared_tweets'] = train_tweets['tweet'].apply(lambda x: re.sub(r'[^a-zA-Z]', ' ', x))"
   ]
  },
  {
   "cell_type": "code",
   "execution_count": 10,
   "id": "951e2d62",
   "metadata": {
    "ExecuteTime": {
     "end_time": "2022-01-19T17:26:58.288776Z",
     "start_time": "2022-01-19T17:26:58.236666Z"
    }
   },
   "outputs": [],
   "source": [
    "train_tweets['cleared_tweets'] = train_tweets['cleared_tweets'].apply(lambda x: ' '.join(x.split()))"
   ]
  },
  {
   "cell_type": "markdown",
   "id": "cdeae49b",
   "metadata": {},
   "source": [
    "# Classes balance"
   ]
  },
  {
   "cell_type": "code",
   "execution_count": 11,
   "id": "1af75190",
   "metadata": {
    "ExecuteTime": {
     "end_time": "2022-01-19T17:26:58.987607Z",
     "start_time": "2022-01-19T17:26:58.551795Z"
    }
   },
   "outputs": [
    {
     "data": {
      "image/png": "[encoded data removed]",
      "text/plain": [
       "<Figure size 432x288 with 1 Axes>"
      ]
     },
     "metadata": {
      "needs_background": "light"
     },
     "output_type": "display_data"
    }
   ],
   "source": [
    "train_tweets['label'].value_counts().plot(kind='bar');"
   ]
  },
  {
   "cell_type": "code",
   "execution_count": 25,
   "id": "f8499d23",
   "metadata": {
    "ExecuteTime": {
     "end_time": "2022-01-19T17:30:56.282080Z",
     "start_time": "2022-01-19T17:30:56.278930Z"
    }
   },
   "outputs": [
    {
     "name": "stdout",
     "output_type": "stream",
     "text": [
      "Minority class rate: 7.01%\n"
     ]
    }
   ],
   "source": [
    "print('Minority class rate: {:.2%}'.format(\n",
    "    train_tweets['label'].sum() / train_tweets.shape[0])\n",
    "     )"
   ]
  },
  {
   "cell_type": "markdown",
   "id": "1f398f86",
   "metadata": {},
   "source": [
    "# Vectorizing"
   ]
  },
  {
   "cell_type": "code",
   "execution_count": 108,
   "id": "22491365",
   "metadata": {
    "ExecuteTime": {
     "end_time": "2022-01-19T17:45:09.474277Z",
     "start_time": "2022-01-19T17:45:08.629509Z"
    }
   },
   "outputs": [],
   "source": [
    "tfidf_vect = TfidfVectorizer(stop_words=stop_words, max_features=10000, ngram_range=(3, 3))\n",
    "sparsed = tfidf_vect.fit_transform(train_tweets['cleared_tweets'])\n",
    "\n",
    "tfidf = sparsed.toarray()"
   ]
  },
  {
   "cell_type": "code",
   "execution_count": 109,
   "id": "29b77636",
   "metadata": {
    "ExecuteTime": {
     "end_time": "2022-01-19T17:45:23.294123Z",
     "start_time": "2022-01-19T17:45:23.288232Z"
    }
   },
   "outputs": [],
   "source": [
    "X_train, X_test, y_train, y_test = train_test_split(sparsed, \n",
    "                                                    train_tweets['label'], \n",
    "                                                    test_size=.25,\n",
    "                                                    random_state=42)"
   ]
  },
  {
   "cell_type": "markdown",
   "id": "0a30b585",
   "metadata": {},
   "source": [
    "# Models"
   ]
  },
  {
   "cell_type": "markdown",
   "id": "254a060d",
   "metadata": {
    "ExecuteTime": {
     "end_time": "2022-01-19T17:43:43.839376Z",
     "start_time": "2022-01-19T17:43:43.837355Z"
    }
   },
   "source": [
    "## Bayes "
   ]
  },
  {
   "cell_type": "code",
   "execution_count": 97,
   "id": "2be98212",
   "metadata": {
    "ExecuteTime": {
     "end_time": "2022-01-19T17:41:29.218520Z",
     "start_time": "2022-01-19T17:41:29.213957Z"
    }
   },
   "outputs": [],
   "source": [
    "def test_model(model, X_train=X_train, X_test=X_test,\n",
    "              y_train=y_train, y_test=y_test):\n",
    "    model.fit(X_train, y_train)\n",
    "    preds_proba = model.predict_proba(X_test)\n",
    "    preds = model.predict(X_test)\n",
    "    print('ROC AUC: ', roc_auc_score(y_test, preds_proba[: , 1]))\n",
    "    print('Confusion matrix:')\n",
    "    display(pd.DataFrame(confusion_matrix(y_test, preds)))\n",
    "    fpr, tpr, _ = roc_curve(y_test, preds_proba[: , 1])\n",
    "    plt.plot(fpr, tpr, label='model curve')\n",
    "    plt.plot([0, 1], [0, 1], '-', label='random')\n",
    "    plt.legend();"
   ]
  },
  {
   "cell_type": "code",
   "execution_count": 98,
   "id": "cbe62c9a",
   "metadata": {
    "ExecuteTime": {
     "end_time": "2022-01-19T17:41:29.703981Z",
     "start_time": "2022-01-19T17:41:29.572631Z"
    }
   },
   "outputs": [
    {
     "name": "stdout",
     "output_type": "stream",
     "text": [
      "ROC AUC:  0.671023481112474\n",
      "Confusion matrix:\n"
     ]
    },
    {
     "data": {
      "text/html": [
       "<div>\n",
       "<style scoped>\n",
       "    .dataframe tbody tr th:only-of-type {\n",
       "        vertical-align: middle;\n",
       "    }\n",
       "\n",
       "    .dataframe tbody tr th {\n",
       "        vertical-align: top;\n",
       "    }\n",
       "\n",
       "    .dataframe thead th {\n",
       "        text-align: right;\n",
       "    }\n",
       "</style>\n",
       "<table border=\"1\" class=\"dataframe\">\n",
       "  <thead>\n",
       "    <tr style=\"text-align: right;\">\n",
       "      <th></th>\n",
       "      <th>0</th>\n",
       "      <th>1</th>\n",
       "    </tr>\n",
       "  </thead>\n",
       "  <tbody>\n",
       "    <tr>\n",
       "      <th>0</th>\n",
       "      <td>7082</td>\n",
       "      <td>350</td>\n",
       "    </tr>\n",
       "    <tr>\n",
       "      <th>1</th>\n",
       "      <td>382</td>\n",
       "      <td>177</td>\n",
       "    </tr>\n",
       "  </tbody>\n",
       "</table>\n",
       "</div>"
      ],
      "text/plain": [
       "      0    1\n",
       "0  7082  350\n",
       "1   382  177"
      ]
     },
     "metadata": {},
     "output_type": "display_data"
    },
    {
     "data": {
      "image/png": "[encoded data removed]",
      "text/plain": [
       "<Figure size 432x288 with 1 Axes>"
      ]
     },
     "metadata": {
      "needs_background": "light"
     },
     "output_type": "display_data"
    }
   ],
   "source": [
    "test_model(model)"
   ]
  },
  {
   "cell_type": "code",
   "execution_count": 102,
   "id": "74182263",
   "metadata": {
    "ExecuteTime": {
     "end_time": "2022-01-19T17:42:41.846799Z",
     "start_time": "2022-01-19T17:42:41.711962Z"
    }
   },
   "outputs": [
    {
     "name": "stdout",
     "output_type": "stream",
     "text": [
      "ROC AUC:  0.7154532640363866\n",
      "Confusion matrix:\n"
     ]
    },
    {
     "data": {
      "text/html": [
       "<div>\n",
       "<style scoped>\n",
       "    .dataframe tbody tr th:only-of-type {\n",
       "        vertical-align: middle;\n",
       "    }\n",
       "\n",
       "    .dataframe tbody tr th {\n",
       "        vertical-align: top;\n",
       "    }\n",
       "\n",
       "    .dataframe thead th {\n",
       "        text-align: right;\n",
       "    }\n",
       "</style>\n",
       "<table border=\"1\" class=\"dataframe\">\n",
       "  <thead>\n",
       "    <tr style=\"text-align: right;\">\n",
       "      <th></th>\n",
       "      <th>0</th>\n",
       "      <th>1</th>\n",
       "    </tr>\n",
       "  </thead>\n",
       "  <tbody>\n",
       "    <tr>\n",
       "      <th>0</th>\n",
       "      <td>7432</td>\n",
       "      <td>0</td>\n",
       "    </tr>\n",
       "    <tr>\n",
       "      <th>1</th>\n",
       "      <td>458</td>\n",
       "      <td>101</td>\n",
       "    </tr>\n",
       "  </tbody>\n",
       "</table>\n",
       "</div>"
      ],
      "text/plain": [
       "      0    1\n",
       "0  7432    0\n",
       "1   458  101"
      ]
     },
     "metadata": {},
     "output_type": "display_data"
    },
    {
     "data": {
      "image/png": "[encoded data removed]",
      "text/plain": [
       "<Figure size 432x288 with 1 Axes>"
      ]
     },
     "metadata": {
      "needs_background": "light"
     },
     "output_type": "display_data"
    }
   ],
   "source": [
    "model = MultinomialNB()\n",
    "test_model(model)"
   ]
  },
  {
   "cell_type": "markdown",
   "id": "6e7adb2b",
   "metadata": {},
   "source": [
    "## Dense net "
   ]
  },
  {
   "cell_type": "code",
   "execution_count": 112,
   "id": "9c579c61",
   "metadata": {
    "ExecuteTime": {
     "end_time": "2022-01-19T17:52:09.317728Z",
     "start_time": "2022-01-19T17:52:08.911560Z"
    }
   },
   "outputs": [],
   "source": [
    "model = Sequential()\n",
    "model.add(Dense(1024, input_dim=10000, activation='relu'))\n",
    "model.add(Dense(1024, activation='relu'))\n",
    "model.add(Dense(1, activation='sigmoid'))\n",
    "model.compile(loss='binary_crossentropy', optimizer='adam', metrics=['AUC'])"
   ]
  },
  {
   "cell_type": "code",
   "execution_count": 114,
   "id": "751fa2bb",
   "metadata": {
    "ExecuteTime": {
     "end_time": "2022-01-19T17:57:33.854217Z",
     "start_time": "2022-01-19T17:53:09.280345Z"
    }
   },
   "outputs": [
    {
     "name": "stdout",
     "output_type": "stream",
     "text": [
      "Epoch 1/5\n",
      "750/750 - 52s - loss: 0.2128 - auc: 0.6980 - val_loss: 0.1817 - val_auc: 0.7620\n",
      "Epoch 2/5\n",
      "750/750 - 53s - loss: 0.1596 - auc: 0.8000 - val_loss: 0.1883 - val_auc: 0.7610\n",
      "Epoch 3/5\n",
      "750/750 - 53s - loss: 0.1545 - auc: 0.8114 - val_loss: 0.1861 - val_auc: 0.7592\n",
      "Epoch 4/5\n",
      "750/750 - 53s - loss: 0.1527 - auc: 0.8187 - val_loss: 0.1863 - val_auc: 0.7549\n",
      "Epoch 5/5\n",
      "750/750 - 53s - loss: 0.1514 - auc: 0.8160 - val_loss: 0.1934 - val_auc: 0.7566\n"
     ]
    },
    {
     "data": {
      "text/plain": [
       "<keras.callbacks.History at 0x7ff4aab55460>"
      ]
     },
     "execution_count": 114,
     "metadata": {},
     "output_type": "execute_result"
    }
   ],
   "source": [
    "model.fit(X_train.toarray(), y_train, validation_data=(X_test.toarray(), y_test),\n",
    "         epochs=5, verbose=2)"
   ]
  },
  {
   "cell_type": "code",
   "execution_count": 122,
   "id": "63732cfd",
   "metadata": {
    "ExecuteTime": {
     "end_time": "2022-01-19T18:00:11.817700Z",
     "start_time": "2022-01-19T18:00:11.694325Z"
    }
   },
   "outputs": [
    {
     "data": {
      "image/png": "[encoded data removed]",
      "text/plain": [
       "<Figure size 432x288 with 1 Axes>"
      ]
     },
     "metadata": {
      "needs_background": "light"
     },
     "output_type": "display_data"
    }
   ],
   "source": [
    "plt.plot(range(0, 5), model.history.history['auc'], label='train_auc')\n",
    "plt.plot(range(0, 5), model.history.history['val_auc'], label='val_auc')\n",
    "plt.legend();"
   ]
  },
  {
   "cell_type": "code",
   "execution_count": 124,
   "id": "df803199",
   "metadata": {
    "ExecuteTime": {
     "end_time": "2022-01-19T18:00:48.860992Z",
     "start_time": "2022-01-19T18:00:48.775229Z"
    }
   },
   "outputs": [],
   "source": [
    "model = Sequential()\n",
    "model.add(Dense(1024, input_dim=10000, activation='relu'))\n",
    "model.add(Dropout(.5))\n",
    "model.add(Dense(1024, activation='relu'))\n",
    "model.add(Dense(1, activation='sigmoid'))\n",
    "model.compile(loss='binary_crossentropy', optimizer='adam', metrics=['AUC'])"
   ]
  },
  {
   "cell_type": "code",
   "execution_count": 125,
   "id": "9905adc9",
   "metadata": {
    "ExecuteTime": {
     "end_time": "2022-01-19T18:00:59.569362Z",
     "start_time": "2022-01-19T18:00:59.563144Z"
    }
   },
   "outputs": [],
   "source": [
    "model.compile(loss='binary_crossentropy', optimizer='adam', metrics=['AUC'])"
   ]
  },
  {
   "cell_type": "code",
   "execution_count": 126,
   "id": "ec07283a",
   "metadata": {
    "ExecuteTime": {
     "end_time": "2022-01-19T18:05:33.407335Z",
     "start_time": "2022-01-19T18:01:06.216107Z"
    }
   },
   "outputs": [
    {
     "name": "stdout",
     "output_type": "stream",
     "text": [
      "Epoch 1/5\n",
      "750/750 - 54s - loss: 0.2183 - auc: 0.6824 - val_loss: 0.1818 - val_auc: 0.7655\n",
      "Epoch 2/5\n",
      "750/750 - 53s - loss: 0.1641 - auc: 0.7979 - val_loss: 0.1793 - val_auc: 0.7638\n",
      "Epoch 3/5\n",
      "750/750 - 53s - loss: 0.1567 - auc: 0.8125 - val_loss: 0.1798 - val_auc: 0.7635\n",
      "Epoch 4/5\n",
      "750/750 - 53s - loss: 0.1551 - auc: 0.8134 - val_loss: 0.1833 - val_auc: 0.7627\n",
      "Epoch 5/5\n",
      "750/750 - 53s - loss: 0.1543 - auc: 0.8111 - val_loss: 0.1846 - val_auc: 0.7623\n"
     ]
    },
    {
     "data": {
      "text/plain": [
       "<keras.callbacks.History at 0x7ff4b2d2e700>"
      ]
     },
     "execution_count": 126,
     "metadata": {},
     "output_type": "execute_result"
    }
   ],
   "source": [
    "model.fit(X_train.toarray(), y_train, validation_data=(X_test.toarray(), y_test),\n",
    "         epochs=5, verbose=2)"
   ]
  },
  {
   "cell_type": "markdown",
   "id": "c6d18481",
   "metadata": {},
   "source": [
    "## Embedings"
   ]
  },
  {
   "cell_type": "code",
   "execution_count": 134,
   "id": "70e01de5",
   "metadata": {
    "ExecuteTime": {
     "end_time": "2022-01-19T18:13:08.400086Z",
     "start_time": "2022-01-19T18:13:08.351146Z"
    }
   },
   "outputs": [],
   "source": [
    "model = Sequential()\n",
    "model.add(Embedding(64, 300, input_length=10000))\n",
    "model.add(Flatten())\n",
    "model.add(Dense(1, activation='sigmoid'))\n",
    "model.compile(loss='binary_crossentropy', optimizer='adam', metrics=['AUC'])"
   ]
  },
  {
   "cell_type": "code",
   "execution_count": null,
   "id": "cf36e7f8",
   "metadata": {
    "ExecuteTime": {
     "start_time": "2022-01-19T18:13:08.800Z"
    }
   },
   "outputs": [
    {
     "name": "stdout",
     "output_type": "stream",
     "text": [
      "Epoch 1/5\n",
      "750/750 - 301s - loss: 0.3693 - auc: 0.4931 - val_loss: 0.3288 - val_auc: 0.5221\n",
      "Epoch 2/5\n",
      "750/750 - 290s - loss: 0.2626 - auc: 0.5208 - val_loss: 0.2495 - val_auc: 0.5413\n",
      "Epoch 3/5\n",
      "750/750 - 294s - loss: 0.2512 - auc: 0.5596 - val_loss: 0.2874 - val_auc: 0.5418\n",
      "Epoch 4/5\n"
     ]
    }
   ],
   "source": [
    "model.fit(X_train.toarray(), y_train, validation_data=(X_test.toarray(), y_test),\n",
    "         epochs=5, verbose=2)"
   ]
  },
  {
   "cell_type": "code",
   "execution_count": null,
   "id": "655531e1",
   "metadata": {},
   "outputs": [],
   "source": []
  }
 ],
 "metadata": {
  "kernelspec": {
   "display_name": "Python 3",
   "language": "python",
   "name": "python3"
  },
  "language_info": {
   "codemirror_mode": {
    "name": "ipython",
    "version": 3
   },
   "file_extension": ".py",
   "mimetype": "text/x-python",
   "name": "python",
   "nbconvert_exporter": "python",
   "pygments_lexer": "ipython3",
   "version": "3.8.8"
  },
  "toc": {
   "base_numbering": 1,
   "nav_menu": {},
   "number_sections": true,
   "sideBar": true,
   "skip_h1_title": false,
   "title_cell": "Table of Contents",
   "title_sidebar": "Contents",
   "toc_cell": false,
   "toc_position": {},
   "toc_section_display": true,
   "toc_window_display": false
  },
  "varInspector": {
   "cols": {
    "lenName": 16,
    "lenType": 16,
    "lenVar": 40
   },
   "kernels_config": {
    "python": {
     "delete_cmd_postfix": "",
     "delete_cmd_prefix": "del ",
     "library": "var_list.py",
     "varRefreshCmd": "print(var_dic_list())"
    },
    "r": {
     "delete_cmd_postfix": ") ",
     "delete_cmd_prefix": "rm(",
     "library": "var_list.r",
     "varRefreshCmd": "cat(var_dic_list()) "
    }
   },
   "types_to_exclude": [
    "module",
    "function",
    "builtin_function_or_method",
    "instance",
    "_Feature"
   ],
   "window_display": false
  }
 },
 "nbformat": 4,
 "nbformat_minor": 5
}
